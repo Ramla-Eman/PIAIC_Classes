{
 "cells": [
  {
   "cell_type": "code",
   "execution_count": 1,
   "id": "b92e98eb",
   "metadata": {},
   "outputs": [
    {
     "name": "stdout",
     "output_type": "stream",
     "text": [
      "7\n"
     ]
    }
   ],
   "source": [
    "# def function_name(parameter):\n",
    "    # return statement / expression / koi bhi kam krna ye value provide karna\n",
    "\n",
    "\n",
    "def add(num1, num2):\n",
    "   return num1 + num2\n",
    "\n",
    "result = add(2,5)\n",
    "print(result)"
   ]
  },
  {
   "cell_type": "markdown",
   "id": "8b7420ba",
   "metadata": {},
   "source": [
    "# Lambda Function / Anonoymous Function"
   ]
  },
  {
   "cell_type": "code",
   "execution_count": 2,
   "id": "f4ffdb6c",
   "metadata": {},
   "outputs": [
    {
     "data": {
      "text/plain": [
       "<function __main__.<lambda>(num1, num2)>"
      ]
     },
     "execution_count": 2,
     "metadata": {},
     "output_type": "execute_result"
    }
   ],
   "source": [
    "# def function_name(parameter):\n",
    "    # return statement / expression / koi bhi kam krna ye value provide karna\n",
    "\n",
    "\n",
    "# lambda parameters: statement / expression / koi bhi kam krna ye value provide karna\n",
    "\n",
    "lambda num1, num2: num1 + num2"
   ]
  },
  {
   "cell_type": "code",
   "execution_count": 3,
   "id": "dcd393b5",
   "metadata": {},
   "outputs": [
    {
     "name": "stdout",
     "output_type": "stream",
     "text": [
      "7\n"
     ]
    }
   ],
   "source": [
    "# name of function = lambda parameters: expression / koi kam\n",
    "add = lambda num1, num2: num1 + num2\n",
    "# print(add(2,5))\n",
    "\n",
    "result = add(2,5)\n",
    "print(result)"
   ]
  },
  {
   "cell_type": "markdown",
   "id": "a15dd107",
   "metadata": {},
   "source": [
    "# Dictionary"
   ]
  },
  {
   "cell_type": "code",
   "execution_count": 4,
   "id": "af1bf203",
   "metadata": {},
   "outputs": [
    {
     "name": "stdout",
     "output_type": "stream",
     "text": [
      "User Age is: 14\n"
     ]
    }
   ],
   "source": [
    "user_dict = {\n",
    "    \"name\": \"ramla\",\n",
    "    \"roll_number\": \"PIAIC1234\", \n",
    "    \"age\" : 14\n",
    "}\n",
    "\n",
    "# print(f\"User data: {user_dict}\")\n",
    "# print(f\"User Name is: {user_dict['name']}\")\n",
    "print(f\"User Age is: {user_dict['age']}\")"
   ]
  },
  {
   "cell_type": "markdown",
   "id": "303b36de",
   "metadata": {},
   "source": [
    "# in class task\n",
    "\n",
    "crate user dictionary which have [name, age, roll_number, email, phone_number, squire using lambda function]"
   ]
  },
  {
   "cell_type": "code",
   "execution_count": 5,
   "id": "6dc35961",
   "metadata": {},
   "outputs": [
    {
     "name": "stdout",
     "output_type": "stream",
     "text": [
      "4\n"
     ]
    }
   ],
   "source": [
    "squire = lambda num1: num1 * num1\n",
    "user_dict = {\n",
    "    \"name\": \"ramla\",\n",
    "    \"roll_number\": \"PIAIC1234\", \n",
    "    \"age\" : 14,\n",
    "    \"email\": \"ramle.man.ra@gmail.com\",\n",
    "    \"phone_number\" : \"123456789\",\n",
    "    \"squire\": squire\n",
    "}\n",
    "\n",
    "user_data = user_dict[\"squire\"](2)\n",
    "print(user_data)"
   ]
  },
  {
   "cell_type": "markdown",
   "id": "34d76726",
   "metadata": {},
   "source": [
    "# Loops"
   ]
  },
  {
   "cell_type": "code",
   "execution_count": 6,
   "id": "ff75dcd7",
   "metadata": {},
   "outputs": [
    {
     "name": "stdout",
     "output_type": "stream",
     "text": [
      "with print\n",
      "====================\n",
      "Ainda Homework kar ke aana hai\n",
      "Ainda Homework kar ke aana hai\n",
      "Ainda Homework kar ke aana hai\n",
      "Ainda Homework kar ke aana hai\n",
      "Ainda Homework kar ke aana hai\n",
      "Ainda Homework kar ke aana hai\n",
      "Ainda Homework kar ke aana hai\n",
      "Ainda Homework kar ke aana hai\n",
      "Ainda Homework kar ke aana hai\n",
      "Ainda Homework kar ke aana hai\n",
      "====================\n",
      "with loop\n",
      "====================\n",
      "Ainda Homework kar ke aana hai\n",
      "Ainda Homework kar ke aana hai\n",
      "Ainda Homework kar ke aana hai\n",
      "Ainda Homework kar ke aana hai\n",
      "Ainda Homework kar ke aana hai\n",
      "Ainda Homework kar ke aana hai\n",
      "Ainda Homework kar ke aana hai\n",
      "Ainda Homework kar ke aana hai\n",
      "Ainda Homework kar ke aana hai\n",
      "Ainda Homework kar ke aana hai\n"
     ]
    }
   ],
   "source": [
    "# for loops\n",
    "print(\"with print\")\n",
    "print(\"=\" *20)\n",
    "print(\"Ainda Homework kar ke aana hai\")\n",
    "print(\"Ainda Homework kar ke aana hai\")\n",
    "print(\"Ainda Homework kar ke aana hai\")\n",
    "print(\"Ainda Homework kar ke aana hai\")\n",
    "print(\"Ainda Homework kar ke aana hai\")\n",
    "print(\"Ainda Homework kar ke aana hai\")\n",
    "print(\"Ainda Homework kar ke aana hai\")\n",
    "print(\"Ainda Homework kar ke aana hai\")\n",
    "print(\"Ainda Homework kar ke aana hai\")\n",
    "print(\"Ainda Homework kar ke aana hai\")\n",
    "\n",
    "print(\"=\" *20)\n",
    "print(\"with loop\")\n",
    "print(\"=\" *20)\n",
    "\n",
    "\n",
    "for i in range(10):\n",
    "    print(\"Ainda Homework kar ke aana hai\")"
   ]
  }
 ],
 "metadata": {
  "kernelspec": {
   "display_name": "base",
   "language": "python",
   "name": "python3"
  },
  "language_info": {
   "codemirror_mode": {
    "name": "ipython",
    "version": 3
   },
   "file_extension": ".py",
   "mimetype": "text/x-python",
   "name": "python",
   "nbconvert_exporter": "python",
   "pygments_lexer": "ipython3",
   "version": "3.12.7"
  }
 },
 "nbformat": 4,
 "nbformat_minor": 5
}
