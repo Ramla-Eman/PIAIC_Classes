{
 "cells": [
  {
   "cell_type": "code",
   "execution_count": null,
   "id": "be640158",
   "metadata": {},
   "outputs": [],
   "source": [
    "def sum():\n",
    "  print(2 + 2)\n",
    "  print(\"hello world\")\n",
    "sum()\n"
   ]
  },
  {
   "cell_type": "code",
   "execution_count": null,
   "id": "c0ef13c4",
   "metadata": {},
   "outputs": [],
   "source": [
    "def sum(num1, num2):\n",
    "  print(num1 + num2)\n",
    "sum(5,19)"
   ]
  },
  {
   "cell_type": "code",
   "execution_count": null,
   "id": "6e051dcf",
   "metadata": {},
   "outputs": [],
   "source": [
    "def sum(num1, num2):\n",
    "  return num1 + num2\n",
    "result = sum(5,10)\n",
    "print(result)\n",
    "final_result = result * 5\n",
    "print(final_result)"
   ]
  },
  {
   "cell_type": "code",
   "execution_count": null,
   "id": "663ebfa5",
   "metadata": {},
   "outputs": [],
   "source": [
    "\n",
    "#def sum(num1, num2):\n",
    "  #return num1 + num2\n",
    "\n",
    "sum = lambda num1, num2: num1 + num2\n",
    "print(sum(99,150))"
   ]
  },
  {
   "cell_type": "code",
   "execution_count": null,
   "id": "afb8ec2b",
   "metadata": {},
   "outputs": [],
   "source": [
    "#for i in range(10):\n",
    "     # print(\"ainda exam tayyari ke sath attend krenga!\")\n",
    "# loops\n",
    "# for loop\n",
    "# while loop\n",
    "\n",
    "num_list = [1,2,3,4,5,6,7,8,9,10]\n",
    "#for num in num_list:\n",
    "for num in range(1,11):\n",
    "  #print(\"num value is\",num)\n",
    " # list(range(1,11))\n",
    "    print(num)\n",
    "\n"
   ]
  },
  {
   "cell_type": "code",
   "execution_count": null,
   "id": "38c8a421",
   "metadata": {},
   "outputs": [],
   "source": [
    "for i in range(1, 6):\n",
    "  for j in range(1, 6):\n",
    "    print(i / j)"
   ]
  },
  {
   "cell_type": "code",
   "execution_count": null,
   "id": "fb8fd47c",
   "metadata": {},
   "outputs": [],
   "source": [
    "#while condition\n",
    "num =1\n",
    "while num < 11:\n",
    "  print(num)\n",
    "  num = num + 1"
   ]
  },
  {
   "cell_type": "code",
   "execution_count": null,
   "id": "9796fe29",
   "metadata": {},
   "outputs": [],
   "source": [
    "user_input = input(\"please enter your value:\")\n",
    "\n",
    "while user_input != \"quit\":\n",
    "  print(\"game is continue\")\n",
    "  user_input = input(\"please enter your value:\")\n"
   ]
  }
 ],
 "metadata": {
  "kernelspec": {
   "display_name": "base",
   "language": "python",
   "name": "python3"
  },
  "language_info": {
   "name": "python",
   "version": "3.12.7"
  }
 },
 "nbformat": 4,
 "nbformat_minor": 5
}
