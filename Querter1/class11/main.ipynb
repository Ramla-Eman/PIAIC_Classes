{
 "cells": [
  {
   "cell_type": "markdown",
   "id": "c322c52d",
   "metadata": {},
   "source": [
    "# error handling (try, except)"
   ]
  },
  {
   "cell_type": "code",
   "execution_count": null,
   "id": "925ef163",
   "metadata": {},
   "outputs": [],
   "source": []
  },
  {
   "cell_type": "markdown",
   "id": "b2f66646",
   "metadata": {},
   "source": [
    "# Calculator\n",
    "### function calculate\n",
    "\n",
    "Enter your first Number\n",
    "Enter your second Number\n",
    "Enter your operation"
   ]
  },
  {
   "cell_type": "code",
   "execution_count": null,
   "id": "dbf8d8ac",
   "metadata": {},
   "outputs": [],
   "source": [
    "def calculate():\n",
    "    try:\n",
    "        num1 = int(input(\"Enter your first number: \"))\n",
    "        num2 = int(input(\"Enter your second number: \"))\n",
    "        operator = input(\"Enter your operator: \")\n",
    "        if operator == \"+\":\n",
    "            print(f\"{num1} {operator} {num2} = {num1 + num2}\")\n",
    "        elif operator == \"-\":\n",
    "            print(f\"{num1} {operator} {num2} = {num1 - num2}\")\n",
    "        elif operator == \"*\":\n",
    "            print(f\"{num1} {operator} {num2} = {num1 * num2}\")\n",
    "        elif operator == \"/\":\n",
    "            print(f\"{num1} {operator} {num2} = {num1 / num2}\")\n",
    "        else:\n",
    "            raise Exception(\"Invalid Operator\")\n",
    "    except ValueError:\n",
    "        print(\"Can't perofrm, please use number's\")\n",
    "    except ZeroDivisionError:\n",
    "        print(\"Can't divide by 0\")\n",
    "    except Exception as e:\n",
    "        print(e)\n",
    "    else:\n",
    "        print(\"No Errors\")\n",
    "    finally:\n",
    "        print(\"Thankyou for using my calculator\")\n",
    "calculate()"
   ]
  },
  {
   "cell_type": "markdown",
   "id": "6b32185e",
   "metadata": {},
   "source": [
    "# Modules\n",
    "\n",
    "code in main.py"
   ]
  },
  {
   "cell_type": "markdown",
   "id": "7fb1e59b",
   "metadata": {},
   "source": [
    "# File Handling\n",
    "\n",
    "code in file_handling.py"
   ]
  }
 ],
 "metadata": {
  "kernelspec": {
   "display_name": "Python 3",
   "language": "python",
   "name": "python3"
  },
  "language_info": {
   "name": "python",
   "version": "3.12.1"
  }
 },
 "nbformat": 4,
 "nbformat_minor": 5
}
