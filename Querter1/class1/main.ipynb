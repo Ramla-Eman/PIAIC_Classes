{
 "cells": [
  {
   "cell_type": "code",
   "execution_count": 1,
   "id": "6186859f",
   "metadata": {},
   "outputs": [
    {
     "name": "stdout",
     "output_type": "stream",
     "text": [
      "Hello World!\n",
      "Hello, Python!\n",
      "First Name: Hamzah\n",
      "Last Name: syed\n",
      "Hello World\n",
      "10\n",
      "50\n",
      "PIAIC Class 1\n"
     ]
    }
   ],
   "source": [
    "\n",
    "# -------------------------------------------\n",
    "# Class 01 - First Python Program (PIAIC Q1)\n",
    "# Topic: print() function\n",
    "# -------------------------------------------\n",
    "\n",
    "print(\"Hello World!\")\n",
    "print(\"Hello, Python!\")\n",
    "\n",
    "# Task\n",
    "print(\"First Name: Hamzah\")\n",
    "print(\"Last Name: syed\")\n",
    "\n",
    "\n",
    "# Printing a simple message\n",
    "print(\"Hello World\")\n",
    "\n",
    "# Printing numbers\n",
    "print(10)\n",
    "print(20 + 30)  # Python can also calculate expressions\n",
    "\n",
    "# Printing multiple values together\n",
    "print(\"PIAIC\", \"Class\", 1)"
   ]
  }
 ],
 "metadata": {
  "kernelspec": {
   "display_name": "Python 3",
   "language": "python",
   "name": "python3"
  },
  "language_info": {
   "codemirror_mode": {
    "name": "ipython",
    "version": 3
   },
   "file_extension": ".py",
   "mimetype": "text/x-python",
   "name": "python",
   "nbconvert_exporter": "python",
   "pygments_lexer": "ipython3",
   "version": "3.12.2"
  }
 },
 "nbformat": 4,
 "nbformat_minor": 5
}
