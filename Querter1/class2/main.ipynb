{
 "cells": [
  {
   "cell_type": "code",
   "execution_count": 1,
   "id": "fce98770",
   "metadata": {},
   "outputs": [
    {
     "name": "stdout",
     "output_type": "stream",
     "text": [
      "Hello world\n"
     ]
    }
   ],
   "source": [
    "#  i am printing hello world\n",
    "#  now i will write some more code\n",
    "#  then will tell what it is doing\n",
    "\n",
    "print(\"Hello world\")"
   ]
  },
  {
   "cell_type": "code",
   "execution_count": 2,
   "id": "02bbc481",
   "metadata": {},
   "outputs": [
    {
     "name": "stdout",
     "output_type": "stream",
     "text": [
      "10\n"
     ]
    }
   ],
   "source": [
    "#  variables\n",
    "name = \"Aneeq\"\n",
    "number = 10\n",
    "print(number)"
   ]
  },
  {
   "cell_type": "code",
   "execution_count": 3,
   "id": "b56e0b96",
   "metadata": {},
   "outputs": [
    {
     "name": "stdout",
     "output_type": "stream",
     "text": [
      "Aneeq\n",
      "5\n",
      "5.5\n",
      "False\n"
     ]
    }
   ],
   "source": [
    "# data types\n",
    "# 1- string\n",
    "# 2- integer\n",
    "# 3- boolean\n",
    "# 4- float\n",
    "# 5- list\n",
    "# 6- dictionary\n",
    "# 7- set\n",
    "# 8- tuple\n",
    "\n",
    "# 1- String -> str\n",
    "print(\"Aneeq\")\n",
    "\n",
    "# 2- Integer -> int\n",
    "print(5)\n",
    "\n",
    "# 3- float -> float\n",
    "print(5.5)\n",
    "\n",
    "# 4- Boolean ->  bool -> True / False\n",
    "print(False)"
   ]
  },
  {
   "cell_type": "code",
   "execution_count": 4,
   "id": "66e16a12",
   "metadata": {},
   "outputs": [
    {
     "name": "stdout",
     "output_type": "stream",
     "text": [
      "<class 'str'>\n",
      "<class 'int'>\n",
      "<class 'float'>\n",
      "<class 'bool'>\n"
     ]
    }
   ],
   "source": [
    "user_name = \"Aneeq\"\n",
    "name_type = type(user_name)\n",
    "print(name_type)\n",
    "\n",
    "number = 20\n",
    "print(type(number))\n",
    "\n",
    "floating_number = 2.4\n",
    "print(type(floating_number))\n",
    "\n",
    "boolean_number = True\n",
    "print(type(boolean_number))"
   ]
  },
  {
   "cell_type": "code",
   "execution_count": 5,
   "id": "95d9e1b1",
   "metadata": {},
   "outputs": [],
   "source": [
    "# Operators\n",
    "\n",
    "#       2 = operand  , + = operator\n",
    "# print(2 + 2)\n",
    "\n",
    "\n",
    "# 1- Arithmetic Operators\n",
    "# 2- Comparison Operators\n",
    "# 3- Assignment Operators\n",
    "# 4- Logical Operators"
   ]
  },
  {
   "cell_type": "code",
   "execution_count": 6,
   "id": "2c89e2a6",
   "metadata": {},
   "outputs": [
    {
     "name": "stdout",
     "output_type": "stream",
     "text": [
      "4\n",
      "5\n",
      "20\n",
      "10.0\n",
      "3\n",
      "1\n",
      "8\n"
     ]
    }
   ],
   "source": [
    "# Arithmetic Operators\n",
    "\n",
    "# Additions ->  +\n",
    "# subtraction -> -\n",
    "# Mutliplication -> *\n",
    "# Divison -> /\n",
    "# Modulus -> %\n",
    "# Floor Division ->//\n",
    "# Exponention -> **\n",
    "\n",
    "\n",
    "print(2 + 2) # Addition\n",
    "print(10 - 5) # Subtraction\n",
    "print(10 * 2) # Mutliplication\n",
    "print(20 / 2 ) # Division\n",
    "print(10 // 3) # Floor Divsion\n",
    "print(10 % 3)  # Modulus -> 10 - 3 = 7 - 3 = 4- 3 =1\n",
    "print(2 ** 3) # Exponention -> 2 * 2 * 2 = 8"
   ]
  },
  {
   "cell_type": "code",
   "execution_count": 7,
   "id": "b7ad76cc",
   "metadata": {},
   "outputs": [
    {
     "name": "stdout",
     "output_type": "stream",
     "text": [
      "False\n",
      "True\n",
      "False\n",
      "True\n"
     ]
    }
   ],
   "source": [
    "# 2- Comparison Operators\n",
    "\n",
    "# equal to -> ==\n",
    "# greater than -> >\n",
    "# less than -> <\n",
    "# not equal -> !=\n",
    "# greater equal to -> >= -> ya to zyada he ya phr baraber he\n",
    "# less than equal to -> <=  -> ya to kam he ya phr baraber he\n",
    "\n",
    "num1 = 10\n",
    "num2 = 5\n",
    "\n",
    "\n",
    "print(num1 == num2) # meri dono value baraber hen ->  False\n",
    "print(num1 > num2) # num1 ki value num2 se zyada he -> True\n",
    "print(num1 < num2) # num1 ki value num2 se kam he ->  False\n",
    "print(num1 != num2) # num1 jo he num2 k baraber nahi he -> True"
   ]
  },
  {
   "cell_type": "code",
   "execution_count": 8,
   "id": "2874a1eb",
   "metadata": {},
   "outputs": [
    {
     "name": "stdout",
     "output_type": "stream",
     "text": [
      "25\n",
      "15\n",
      "100\n",
      "4.0\n"
     ]
    }
   ],
   "source": [
    "# Assignment Operators\n",
    "# equal to -> =\n",
    "# =\tx = 5\tx = 5\n",
    "\n",
    "\n",
    "name = \"Aneeq\"\n",
    "\n",
    "num1 = 20\n",
    "# num2  = 20 + 5\n",
    "num2 = num1 + 5  # 20 + 5 =  25\n",
    "print(num2)\n",
    "num3 = num1 - 5 # 20-5 = 15\n",
    "print(num3)\n",
    "num4 = num1 * 5 # 20 * 5 = 100\n",
    "print(num4)\n",
    "num5 = num1 / 5 # 20 / 5 =  4.0\n",
    "print(num5)"
   ]
  },
  {
   "cell_type": "code",
   "execution_count": 9,
   "id": "cf712e4e",
   "metadata": {},
   "outputs": [
    {
     "name": "stdout",
     "output_type": "stream",
     "text": [
      "True\n",
      "False\n",
      "True\n"
     ]
    }
   ],
   "source": [
    "# Logical Operators\n",
    "#  Logical And -> and\n",
    "# Logical Or -> or\n",
    "# Logical Not -> not\n",
    "\n",
    "num1 = 10\n",
    "num2 = 20\n",
    "\n",
    "# condition = num1 baraber na ho num2 k   and   num1  chota ho num2 se\n",
    "result = num1 != num2 and num1 < num2\n",
    "print(result)\n",
    "#           True        and  False\n",
    "result2 = num1 != num2 and num1 > num2\n",
    "print(result2)\n",
    "#          True         ya   False\n",
    "result3 = num1 != num2 or num1 > num2\n",
    "print(result3)"
   ]
  },
  {
   "cell_type": "code",
   "execution_count": 10,
   "id": "b86c574b",
   "metadata": {},
   "outputs": [
    {
     "name": "stdout",
     "output_type": "stream",
     "text": [
      "10 20\n",
      "num1 added by num2 30\n"
     ]
    }
   ],
   "source": [
    "num1 = 10\n",
    "num2 = 20\n",
    "print(num1,num2)\n",
    "# print(\"num1 is\", num1)\n",
    "print(\"num1 added by num2\", num1+num2 )"
   ]
  },
  {
   "cell_type": "code",
   "execution_count": 11,
   "id": "8ce9dd79",
   "metadata": {},
   "outputs": [
    {
     "name": "stdout",
     "output_type": "stream",
     "text": [
      "['h', 'e', 'l', 'l', 'o']\n",
      "('h', 'e', 'l', 'l', 'o')\n",
      "{'l', 'o', 'e', 'h'}\n"
     ]
    }
   ],
   "source": [
    "x = \"hello\"\n",
    "\n",
    "print(list(x))   # ['h', 'e', 'l', 'l', 'o']\n",
    "print(tuple(x))  # ('h', 'e', 'l', 'l', 'o')\n",
    "print(set(x))    # {'h', 'e', 'o', 'l'}"
   ]
  },
  {
   "cell_type": "code",
   "execution_count": 12,
   "id": "6f1351e3",
   "metadata": {},
   "outputs": [
    {
     "name": "stdout",
     "output_type": "stream",
     "text": [
      "{'name': 'Ali', 'age': 20}\n"
     ]
    }
   ],
   "source": [
    "data = [(\"name\", \"Ali\"), (\"age\",20)]\n",
    "print(dict(data))\n"
   ]
  },
  {
   "cell_type": "code",
   "execution_count": 13,
   "id": "f56196fa",
   "metadata": {},
   "outputs": [
    {
     "data": {
      "text/plain": [
       "[1, 2, 3, 4, 5, 6, 7, 8, 9, 10]"
      ]
     },
     "execution_count": 13,
     "metadata": {},
     "output_type": "execute_result"
    }
   ],
   "source": [
    "list(range(1,11))"
   ]
  }
 ],
 "metadata": {
  "kernelspec": {
   "display_name": "Python 3",
   "language": "python",
   "name": "python3"
  },
  "language_info": {
   "codemirror_mode": {
    "name": "ipython",
    "version": 3
   },
   "file_extension": ".py",
   "mimetype": "text/x-python",
   "name": "python",
   "nbconvert_exporter": "python",
   "pygments_lexer": "ipython3",
   "version": "3.12.2"
  }
 },
 "nbformat": 4,
 "nbformat_minor": 5
}
