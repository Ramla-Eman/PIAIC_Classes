{
 "cells": [
  {
   "cell_type": "code",
   "execution_count": 1,
   "id": "c5abba3a",
   "metadata": {},
   "outputs": [
    {
     "name": "stdout",
     "output_type": "stream",
     "text": [
      "ramla eman and your age is\n",
      "ramla eman and your age is: \n"
     ]
    }
   ],
   "source": [
    "first_name = input(\"What is your first name:\")\n",
    "last_name  =  input(\"what is your last name:\")\n",
    "age = input(\"What is your age: \")\n",
    "\n",
    "print(first_name, last_name, \"and your age is\" + age)\n",
    "print( f'{first_name} {last_name} and your age is: {age}'\n",
    ")"
   ]
  },
  {
   "cell_type": "code",
   "execution_count": 2,
   "id": "b1a2431a",
   "metadata": {},
   "outputs": [
    {
     "name": "stdout",
     "output_type": "stream",
     "text": [
      "11\n",
      "1+1\n",
      "2\n"
     ]
    }
   ],
   "source": [
    "print(\"1\" + \"1\")\n",
    "print(\"1+1\")\n",
    "print(1+1)"
   ]
  },
  {
   "cell_type": "code",
   "execution_count": 3,
   "id": "44502245",
   "metadata": {},
   "outputs": [
    {
     "name": "stdout",
     "output_type": "stream",
     "text": [
      "list before update ['Mango', 'Orange', 'Grapes', 'Banana']\n",
      "Mango\n",
      "Orange\n",
      "Grapes\n",
      "Banana\n"
     ]
    }
   ],
   "source": [
    "#List\n",
    "\n",
    "fav_fruit1 = \"Mango\"\n",
    "fav_fruit2 = \"Orange\"\n",
    "fav_fruit3 = \"Grapes\"\n",
    "fav_fruit4 = \"Banana\"\n",
    "\n",
    "#Index  →        0         1         2         3\n",
    "fruit_list = [\"Mango\", \"Orange\", \"Grapes\", \"Banana\"]\n",
    "print(\"list before update\", fruit_list )\n",
    "\n",
    "print(fruit_list[0])  #Mango\n",
    "print(fruit_list[1])  #Orange\n",
    "print(fruit_list[2])  #Grapes\n",
    "print(fruit_list[3])  #Banana"
   ]
  },
  {
   "cell_type": "code",
   "execution_count": 4,
   "id": "5aeb1dc9",
   "metadata": {},
   "outputs": [
    {
     "name": "stdout",
     "output_type": "stream",
     "text": [
      "list after update ['Mango', 'Apple', 'Grapes', 'Banana']\n",
      "Before adding: ['Apple', 20, 'Ture', 2.4]\n",
      "after adding: ['Apple', 20, 'Apple', 'Ture', 2.4, 'Banana']\n"
     ]
    }
   ],
   "source": [
    "#Override\n",
    "\n",
    "#Index  →        0         1         2         3\n",
    "fruit_list = [\"Mango\", \"Orange\", \"Grapes\", \"Banana\"]\n",
    "\n",
    "fruit_list[1] = \"Apple\"        #Apple replace orange\n",
    "\n",
    "print(\"list after update\", fruit_list)\n",
    "\n",
    "mixed_list = [\"Apple\", 20, \"Ture\", 2.4]\n",
    "print(\"Before adding:\", mixed_list)\n",
    "\n",
    "mixed_list.append(\"Banana\")          # Add Banan at the last of list\n",
    "\n",
    "mixed_list.insert(2, \"Apple\")        #Add Apple at index 2\n",
    "\n",
    "print(\"after adding:\" ,mixed_list)"
   ]
  },
  {
   "cell_type": "code",
   "execution_count": null,
   "id": "62224a12",
   "metadata": {},
   "outputs": [
    {
     "ename": "SyntaxError",
     "evalue": "invalid syntax (631377858.py, line 2)",
     "output_type": "error",
     "traceback": [
      "  \u001b[36mCell\u001b[39m\u001b[36m \u001b[39m\u001b[32mIn[5]\u001b[39m\u001b[32m, line 2\u001b[39m\n\u001b[31m    \u001b[39m\u001b[31m-----------------------\u001b[39m\n                           ^\n\u001b[31mSyntaxError\u001b[39m\u001b[31m:\u001b[39m invalid syntax\n"
     ]
    }
   ],
   "source": [
    "#List Methods\n",
    "# -----------------------\n",
    "# 1-  append () - #Adds an element at the end of the list.\n",
    "# 2-  insert()  - #Inserts an element at a specified position.\n",
    "# 3-  remove()  - #Remove the element of the specified item.\n",
    "# 4-  pop()     - #Remove an element at the specified position (or last item if no index).\n",
    "# 5-  sort()    - #Sorts the list (ascending by default, can use reverse=True).\n",
    "# 6-  revers()  - #Reverses the order of the list.\n",
    "# 7-  index()   - #Returns the index of the first occurrence of a specified value.\n",
    "# 8-  Clear()   - #Remove all elements from the list.\n",
    "# 9- extend()   - #Adds all elements of another iterable (list, tuple, set, etc.) to the list.\n",
    "# 10- Copy()    - #Returns a shallow copy of the list.\n",
    "# 11- Count()   - #Returens the number of occurrence of a specified value.\n",
    "# Len():\n",
    "      #len is not a list method it's a built-in python function that tells you how many items/elements are present in the list.\n",
    "#- len        - Gives the lenght(the total number of elements)."
   ]
  },
  {
   "cell_type": "code",
   "execution_count": null,
   "id": "cb71cdc0",
   "metadata": {},
   "outputs": [],
   "source": [
    "# 1. Append\n",
    "                                #Add element at the end of the list\n",
    "number_list = [1, 2, 3, 4, 5]\n",
    "\n",
    "print(\"before append:\", number_list)\n",
    "number_list.append(7)\n",
    "print(\"after append:\", number_list)\n",
    "number_list.append(8)\n",
    "print(\"after append :\", number_list)"
   ]
  },
  {
   "cell_type": "code",
   "execution_count": null,
   "id": "8fd61b91",
   "metadata": {},
   "outputs": [],
   "source": [
    "#Example-2\n",
    "number_list = [1,2,3,4,5]\n",
    "\n",
    "print(\"Orignal list:\", number_list)\n",
    "\n",
    "number_list.append(10)                    #Add (10)/element at the end of the list\n",
    "print(\"after append:\", number_list)"
   ]
  },
  {
   "cell_type": "code",
   "execution_count": null,
   "id": "9f45bea6",
   "metadata": {},
   "outputs": [],
   "source": [
    "# 2. Insert            #Insert element at spacific position\n",
    "\n",
    "number_list = [1,2,4,5]\n",
    "\n",
    "print(\"before insert:\", number_list)\n",
    "number_list.insert(2,3)\n",
    "print(\"after insert:\", number_list)"
   ]
  },
  {
   "cell_type": "code",
   "execution_count": null,
   "id": "4ecc92a6",
   "metadata": {},
   "outputs": [],
   "source": [
    "#Example-2\n",
    "\n",
    "#Index   →      0  1  2  3  4\n",
    "number_list = [1, 2, 3, 4, 5]\n",
    "\n",
    "print(\"before insert:\", number_list)\n",
    "number_list.insert(2, 88)        #insert 88 at index 2\n",
    "print(\"after insert:\", number_list)"
   ]
  },
  {
   "cell_type": "code",
   "execution_count": null,
   "id": "4b966640",
   "metadata": {},
   "outputs": [],
   "source": [
    "# 3. Remove            #To remove element from the list\n",
    "number_list = [1, 2, 3, 4, 5]\n",
    "\n",
    "print(\"before remove:\", number_list)\n",
    "\n",
    "number_list.remove(2)\n",
    "print(\"after remove:\", number_list)"
   ]
  },
  {
   "cell_type": "code",
   "execution_count": null,
   "id": "1bf437e5",
   "metadata": {},
   "outputs": [],
   "source": [
    "# 4. Len              #Returens the numbers of elements in the list\n",
    "\n",
    "numbers = [1, 2, 3, 4, 5]\n",
    "print(\"list:\", numbers)\n",
    "\n",
    "print(\"Length of list:\", len(numbers))\n"
   ]
  },
  {
   "cell_type": "code",
   "execution_count": null,
   "id": "70cf3142",
   "metadata": {},
   "outputs": [],
   "source": [
    "# 5. Pop          #Remove element at an index (default last)\n",
    "\n",
    "#Index   →     0  1  2  3  4\n",
    "number_list = [1, 2, 3, 4, 5]\n",
    "\n",
    "print(\"before pop:\", number_list)\n",
    "\n",
    "number_list.pop(2)                        #The diffrence between pop and remove\n",
    "                                          #\"Pop\" removes an element by index\n",
    "                                          #\"Remove\" removes an element by value\n",
    "print(\"after pop:\", number_list)"
   ]
  }
 ],
 "metadata": {
  "kernelspec": {
   "display_name": "Python 3",
   "language": "python",
   "name": "python3"
  },
  "language_info": {
   "codemirror_mode": {
    "name": "ipython",
    "version": 3
   },
   "file_extension": ".py",
   "mimetype": "text/x-python",
   "name": "python",
   "nbconvert_exporter": "python",
   "pygments_lexer": "ipython3",
   "version": "3.12.2"
  }
 },
 "nbformat": 4,
 "nbformat_minor": 5
}
