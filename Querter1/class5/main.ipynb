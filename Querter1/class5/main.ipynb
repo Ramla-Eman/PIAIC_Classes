{
 "cells": [
  {
   "cell_type": "markdown",
   "id": "1c4b5de8",
   "metadata": {},
   "source": [
    "# Quiz Code"
   ]
  },
  {
   "cell_type": "code",
   "execution_count": 3,
   "id": "09f12f79",
   "metadata": {},
   "outputs": [
    {
     "name": "stdout",
     "output_type": "stream",
     "text": [
      "5\n",
      "Muli\n",
      "['Alo', 'Dhanya']\n",
      "['Hari mirch', 'Alo', 'Dhanya', 'Muli']\n"
     ]
    }
   ],
   "source": [
    "vagetables = [\"Hari mirch\", \"Lal mirch\", \"Bengun\", \"Alo\", \"Muli\"]\n",
    "\n",
    "print(len(vagetables))\n",
    "print(vagetables[-1])\n",
    "vagetables.remove(\"Bengun\") # [\"Hari mirch\", \"Lal mirch\", \"Alo\", \"Muli\"]\n",
    "vagetables.pop(1) # [\"Hari mirch\", \"Alo\", \"Muli\"]\n",
    "vagetables.insert(2, \"Dhanya\") # [\"Hari mirch\", \"Alo\", \"Dhanya\", \"Muli\"]\n",
    "\n",
    "print(vagetables[1:3]) # [\"Alo\", \"Dhanya\"]\n",
    "\n",
    "print(vagetables)"
   ]
  },
  {
   "cell_type": "markdown",
   "id": "c494cda0",
   "metadata": {},
   "source": [
    "# Function"
   ]
  },
  {
   "cell_type": "code",
   "execution_count": 4,
   "id": "9a1b07d3",
   "metadata": {},
   "outputs": [
    {
     "name": "stdout",
     "output_type": "stream",
     "text": [
      "hello World\n",
      "Open door\n",
      "hello World\n",
      "Open door\n"
     ]
    }
   ],
   "source": [
    "def greet():\n",
    "  print(\"hello World\")\n",
    "  print(\"Open door\")\n",
    "\n",
    "greet()\n",
    "greet()\n",
    "\n",
    "# print(\"hello World\")\n",
    "# print(\"Open door\")"
   ]
  },
  {
   "cell_type": "code",
   "execution_count": 5,
   "id": "21eeca67",
   "metadata": {},
   "outputs": [
    {
     "name": "stdout",
     "output_type": "stream",
     "text": [
      "catched ⚽\n"
     ]
    }
   ],
   "source": [
    "def catch(obj):\n",
    "    print(f\"catched {obj}\")\n",
    "\n",
    "catch(\"⚽\")"
   ]
  },
  {
   "cell_type": "markdown",
   "id": "78df9e4e",
   "metadata": {},
   "source": [
    "# Return Statement"
   ]
  },
  {
   "cell_type": "code",
   "execution_count": 6,
   "id": "fcb50c1f",
   "metadata": {},
   "outputs": [
    {
     "name": "stdout",
     "output_type": "stream",
     "text": [
      "catched! ⚽\n"
     ]
    }
   ],
   "source": [
    "def catch(obj):\n",
    "    return f\"catched! {obj}\"\n",
    "\n",
    "result = catch(\"⚽\")\n",
    "\n",
    "print(result)"
   ]
  },
  {
   "cell_type": "code",
   "execution_count": 7,
   "id": "8c9c4faf",
   "metadata": {},
   "outputs": [
    {
     "name": "stdout",
     "output_type": "stream",
     "text": [
      "catched! ⚽\n",
      "catched! 🗝️\n"
     ]
    }
   ],
   "source": [
    "def catch(obj = \"⚽\"):\n",
    "    return f\"catched! {obj}\"\n",
    "\n",
    "result = catch()\n",
    "result2 = catch(\"🗝️\")\n",
    "\n",
    "print(result)\n",
    "print(result2)"
   ]
  },
  {
   "cell_type": "markdown",
   "id": "144f3545",
   "metadata": {},
   "source": [
    "# Sum Example"
   ]
  },
  {
   "cell_type": "code",
   "execution_count": 8,
   "id": "436d5b60",
   "metadata": {},
   "outputs": [
    {
     "name": "stdout",
     "output_type": "stream",
     "text": [
      "300\n",
      "30\n"
     ]
    }
   ],
   "source": [
    "def sum(num1,num2):\n",
    "  print(num1 + num2)\n",
    "\n",
    "sum(num1 = 100, num2 = 200)\n",
    "sum(num1 = 10, num2 = 20)"
   ]
  }
 ],
 "metadata": {
  "kernelspec": {
   "display_name": "base",
   "language": "python",
   "name": "python3"
  },
  "language_info": {
   "codemirror_mode": {
    "name": "ipython",
    "version": 3
   },
   "file_extension": ".py",
   "mimetype": "text/x-python",
   "name": "python",
   "nbconvert_exporter": "python",
   "pygments_lexer": "ipython3",
   "version": "3.12.7"
  }
 },
 "nbformat": 4,
 "nbformat_minor": 5
}
