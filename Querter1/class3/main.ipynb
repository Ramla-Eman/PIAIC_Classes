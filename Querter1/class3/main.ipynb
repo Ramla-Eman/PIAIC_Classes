{
 "cells": [
  {
   "cell_type": "code",
   "execution_count": 2,
   "id": "b125baed",
   "metadata": {},
   "outputs": [
    {
     "name": "stdout",
     "output_type": "stream",
     "text": [
      "pubg 2331392877472\n",
      "School nhi Jana he\n",
      "False\n",
      "True\n",
      "koi bat nhi chote next time\n",
      "koi bat nhi chote next time\n",
      "number 10 k barabar he\n",
      "Fail\n"
     ]
    }
   ],
   "source": [
    "fav_game = \"pubg\"\n",
    "fav_food = \"Biryani\"\n",
    "age = True\n",
    "\n",
    "id(fav_game)\n",
    "\n",
    "print(fav_game, id(fav_game))\n",
    "\n",
    "# if-else\n",
    "\n",
    "isRaining = True\n",
    "\n",
    "if isRaining:\n",
    "    print(\"School nhi Jana he\")\n",
    "else:\n",
    "    print(\"School Jana he\")\n",
    "\n",
    "age = 15\n",
    "\n",
    "print(age == 18) #- True\n",
    "print(age < 18) #- False\n",
    "\n",
    "if age == 18:\n",
    "    print(\"You can vote\")\n",
    "else:\n",
    "    print(\"koi bat nhi chote next time\")\n",
    "\n",
    "if age >= 18:\n",
    "  print(\"You can vote\")\n",
    "else:\n",
    "    print(\"koi bat nhi chote next time\")\n",
    "\n",
    "# elif\n",
    "\n",
    "number = 10\n",
    "\n",
    "if number > 10:\n",
    "    print(\"Number 10 se bara he\")\n",
    "elif number == 10:\n",
    "    print(\"number 10 k barabar he\")\n",
    "else:\n",
    "    print(\"number 10 se chota he\")\n",
    "\n",
    "# Class Task\n",
    "\n",
    "percentag = int(input(\"Enter your percentag: \"))\n",
    "\n",
    "if percentag >= 80 and percentag < 100:\n",
    "    print(\"A1 Grade\")\n",
    "elif percentag >= 70 and percentag < 80:\n",
    "    print(\"A Grade\")\n",
    "elif percentag >= 60 and percentag < 70:\n",
    "    print(\"B Grade\")\n",
    "elif percentag >= 50 and percentag < 60:\n",
    "    print(\"C Grade\")\n",
    "else:\n",
    "    print(\"Fail\")"
   ]
  }
 ],
 "metadata": {
  "kernelspec": {
   "display_name": "Python 3",
   "language": "python",
   "name": "python3"
  },
  "language_info": {
   "codemirror_mode": {
    "name": "ipython",
    "version": 3
   },
   "file_extension": ".py",
   "mimetype": "text/x-python",
   "name": "python",
   "nbconvert_exporter": "python",
   "pygments_lexer": "ipython3",
   "version": "3.12.2"
  }
 },
 "nbformat": 4,
 "nbformat_minor": 5
}
