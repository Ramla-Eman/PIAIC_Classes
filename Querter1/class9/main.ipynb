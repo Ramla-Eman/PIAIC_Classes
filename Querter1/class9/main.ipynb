{
 "cells": [
  {
   "cell_type": "markdown",
   "id": "000c9b71",
   "metadata": {},
   "source": [
    "# For Loop"
   ]
  },
  {
   "cell_type": "code",
   "execution_count": 22,
   "id": "51ee936a",
   "metadata": {},
   "outputs": [
    {
     "name": "stdout",
     "output_type": "stream",
     "text": [
      "Ali\n",
      "Osama\n",
      "Sara\n",
      "Arham\n",
      "Hamza\n"
     ]
    }
   ],
   "source": [
    "students = [\"Ali\", \"Osama\", \"Sara\"]\n",
    "students.append(\"Arham\")\n",
    "students.append(\"Hamza\")\n",
    "\n",
    "for student in students:\n",
    "    print(student)"
   ]
  },
  {
   "cell_type": "code",
   "execution_count": 23,
   "id": "98efd666",
   "metadata": {},
   "outputs": [
    {
     "name": "stdout",
     "output_type": "stream",
     "text": [
      "1\n",
      "2\n",
      "3\n",
      "4\n",
      "5\n",
      "6\n",
      "7\n",
      "8\n",
      "9\n",
      "10\n"
     ]
    }
   ],
   "source": [
    "for count in range(1, 11):\n",
    "    print(count)"
   ]
  },
  {
   "cell_type": "markdown",
   "id": "62ae65a9",
   "metadata": {},
   "source": [
    "# Class Tasks"
   ]
  },
  {
   "cell_type": "code",
   "execution_count": 24,
   "id": "a2d92a1f",
   "metadata": {},
   "outputs": [
    {
     "name": "stdout",
     "output_type": "stream",
     "text": [
      "1\n",
      "3\n",
      "5\n",
      "7\n",
      "9\n",
      "11\n",
      "13\n",
      "15\n",
      "17\n",
      "19\n",
      "21\n",
      "23\n",
      "25\n",
      "27\n",
      "29\n",
      "31\n",
      "33\n",
      "35\n",
      "37\n",
      "39\n",
      "41\n",
      "43\n",
      "45\n",
      "47\n",
      "49\n",
      "51\n",
      "53\n",
      "55\n",
      "57\n",
      "59\n",
      "61\n",
      "63\n",
      "65\n",
      "67\n",
      "69\n",
      "71\n",
      "73\n",
      "75\n",
      "77\n",
      "79\n",
      "81\n",
      "83\n",
      "85\n",
      "87\n",
      "89\n",
      "91\n",
      "93\n",
      "95\n",
      "97\n",
      "99\n"
     ]
    }
   ],
   "source": [
    "# using loop print 1 to 100\n",
    "for num in range(1, 101, 2):\n",
    "    print(f\"{num}\")"
   ]
  },
  {
   "cell_type": "code",
   "execution_count": null,
   "id": "70083607",
   "metadata": {},
   "outputs": [],
   "source": [
    "# write table of 2\n",
    "table_value = int(input(\"Enter Number for printing table: \"))\n",
    "\n",
    "for table in range(1, 11):\n",
    "    print(f\"{table_value} x {table} = {table * table_value}\")\n"
   ]
  },
  {
   "cell_type": "markdown",
   "id": "7e10afc5",
   "metadata": {},
   "source": [
    "# While loop"
   ]
  },
  {
   "cell_type": "code",
   "execution_count": null,
   "id": "b7e55e78",
   "metadata": {},
   "outputs": [],
   "source": [
    "while True: # Don't try you will regret\n",
    "    print(\"Working\")"
   ]
  },
  {
   "cell_type": "code",
   "execution_count": null,
   "id": "8f6aa226",
   "metadata": {},
   "outputs": [],
   "source": [
    "# emtpy output\n",
    "while False: \n",
    "    print(\"Working\")"
   ]
  },
  {
   "cell_type": "code",
   "execution_count": null,
   "id": "93581fc2",
   "metadata": {},
   "outputs": [
    {
     "name": "stdout",
     "output_type": "stream",
     "text": [
      "1\n"
     ]
    }
   ],
   "source": [
    "# Don't try you will regret\n",
    "# i = 1\n",
    "# while i <= 10:\n",
    "#     print(i)\n",
    "\n",
    "# code will work\n",
    "i = 1\n",
    "while i <= 10:\n",
    "    print(i)\n",
    "    # add break \n",
    "    i += 1"
   ]
  },
  {
   "cell_type": "markdown",
   "id": "b391974f",
   "metadata": {},
   "source": [
    "# Guessing Number Game\n",
    "\n",
    "generate random number\n",
    "input from user => guess number 1 to 100"
   ]
  },
  {
   "cell_type": "code",
   "execution_count": null,
   "id": "af20807f",
   "metadata": {},
   "outputs": [
    {
     "name": "stdout",
     "output_type": "stream",
     "text": [
      "Your guss is lower then the computer: \n"
     ]
    }
   ],
   "source": [
    "import random\n",
    "\n",
    "user_guess = input(\"Guess Number Between 1 to 100\")\n",
    "computer_random_num = random.randint(1,100)\n",
    "\n",
    "while user_guess:\n",
    "    if int(user_guess) > computer_random_num:\n",
    "        print(\"Your guess is higher then the computer: \")\n",
    "        user_guess = input(\"Guess Number Between 1 to 100\")\n",
    "    elif int(user_guess) < computer_random_num:\n",
    "        print(\"Your guss is lower then the computer: \")\n",
    "        user_guess = input(\"Guess Number Between 1 to 100\")\n",
    "    else:\n",
    "        print(\"You won \")\n",
    "        break"
   ]
  },
  {
   "cell_type": "code",
   "execution_count": 10,
   "id": "be99ef03",
   "metadata": {},
   "outputs": [
    {
     "name": "stdout",
     "output_type": "stream",
     "text": [
      "Your guss is lower then the computer: \n",
      "Your guss is lower then the computer: \n",
      "Your guss is lower then the computer: \n",
      "Your guss is lower then the computer: \n",
      "Your guss is lower then the computer: \n",
      "Your guss is lower then the computer: \n",
      "Your guss is lower then the computer: \n"
     ]
    }
   ],
   "source": [
    "import random\n",
    "\n",
    "user_guess = input(\"Guess Number Between 1 to 100\")\n",
    "computer_random_num = random.randint(1,100)\n",
    "\n",
    "trial = 0\n",
    "\n",
    "while trial < 7:\n",
    "    if int(user_guess) > computer_random_num:\n",
    "        print(\"Your guess is higher then the computer: \")\n",
    "        user_guess = input(\"Guess Number Between 1 to 100\")\n",
    "        trial = trial +  1\n",
    "    elif int(user_guess) < computer_random_num:\n",
    "        print(\"Your guss is lower then the computer: \")\n",
    "        user_guess = input(\"Guess Number Between 1 to 100\")\n",
    "        trial = trial + 1\n",
    "    \n",
    "    else:\n",
    "        print(\"You won \")\n",
    "        break"
   ]
  },
  {
   "cell_type": "markdown",
   "id": "35743131",
   "metadata": {},
   "source": [
    "# Tuple"
   ]
  },
  {
   "cell_type": "code",
   "execution_count": null,
   "id": "26487499",
   "metadata": {},
   "outputs": [],
   "source": [
    "colours_list = [\"Green\", \"Yellow\", \"Red\"] # mutable\n",
    "colours_tuple = (\"Green\", \"Yellow\", \"Red\") #immutable\n",
    "\n",
    "colours_list[0] = \"purple\"\n",
    "# colours_tuple[0] = \"purple\" => can't chnage bcz tuple are immutable\n",
    "\n",
    "print(colours_list[0])\n",
    "print(colours_tuple[0])"
   ]
  },
  {
   "cell_type": "code",
   "execution_count": null,
   "id": "d4826f6c",
   "metadata": {},
   "outputs": [],
   "source": [
    "week_list = [\"Monday\", \"Tuesday\", \"Wednesday\", \"Thursday\", \"Friday\", \"Saturday\", \"Sunday\"]\n",
    "week_tuple = (\"Monday\", \"Tuesday\", \"Wednesday\", \"Thursday\", \"Friday\", \"Saturday\", \"Sunday\")\n",
    "\n",
    "week_list[0] = \"Bitrhday\"\n",
    "# week_tuple[0] = \"Birthday\" => can't chnage bcz tuple are immutable\n",
    "print(week_list)\n",
    "print(week_tuple)"
   ]
  },
  {
   "cell_type": "code",
   "execution_count": null,
   "id": "0b7e007d",
   "metadata": {},
   "outputs": [],
   "source": [
    "colours_list = [\"Green\", \"Yellow\", \"Red\"] # mutable\n",
    "colours_tuple = (\"Green\", \"Yellow\", \"Red\") #immutable\n",
    "\n",
    "colours_list.append(\"blue\")\n",
    "# colours_tuple.append(\"blue\") => can't chnage bcz tuple are immutable\n",
    "\n",
    "print(colours_list)"
   ]
  },
  {
   "cell_type": "code",
   "execution_count": null,
   "id": "f1f9d3b4",
   "metadata": {},
   "outputs": [],
   "source": [
    "colours_tuple = (\"Green\", \"Yellow\", \"Red\")\n",
    "print(colours_tuple)"
   ]
  },
  {
   "cell_type": "code",
   "execution_count": 12,
   "id": "f932b7e3",
   "metadata": {},
   "outputs": [
    {
     "name": "stdout",
     "output_type": "stream",
     "text": [
      "Green\n",
      "Yellow\n",
      "Red\n"
     ]
    }
   ],
   "source": [
    "# create tuple and then loop the values\n",
    "colours_tuple = (\"Green\", \"Yellow\", \"Red\")\n",
    "\n",
    "for colour in colours_tuple:\n",
    "    print(colour)"
   ]
  },
  {
   "cell_type": "markdown",
   "id": "34160a21",
   "metadata": {},
   "source": [
    "# set\n",
    "\n",
    "1. set of unordered list\n",
    "2. collection of unique values"
   ]
  },
  {
   "cell_type": "code",
   "execution_count": null,
   "id": "d2bb0589",
   "metadata": {},
   "outputs": [],
   "source": [
    "fruits_list = [\"apple\", \"mango\", \"apple\", \"grapes\", \"apple\"]\n",
    "fruits_set = {\"apple\", \"mango\", \"apple\", \"grapes\", \"apple\"}\n",
    "\n",
    "print(\"fruits ke list\", fruits_list)\n",
    "print(\"fruits ke list\", fruits_set)"
   ]
  },
  {
   "cell_type": "code",
   "execution_count": null,
   "id": "9d810907",
   "metadata": {},
   "outputs": [],
   "source": [
    "fruits_list = [\"apple\", \"mango\", \"grapes\"]\n",
    "fruits_set = {\"apple\", \"mango\", \"grapes\"}\n",
    "\n",
    "print(\"fruits ke list\", fruits_list)\n",
    "print(\"fruits ke list\", fruits_set)"
   ]
  },
  {
   "cell_type": "code",
   "execution_count": null,
   "id": "343abb06",
   "metadata": {},
   "outputs": [],
   "source": [
    "fruits_list = [\"apple\", \"mango\", \"grapes\"]\n",
    "fruits_set = {\"apple\", \"mango\", \"grapes\"}\n",
    "\n",
    "print(fruits_list[0])\n",
    "# print(fruits_set[0]) => set don't have index"
   ]
  },
  {
   "cell_type": "code",
   "execution_count": null,
   "id": "a0d458ae",
   "metadata": {},
   "outputs": [
    {
     "name": "stdout",
     "output_type": "stream",
     "text": [
      "True\n"
     ]
    }
   ],
   "source": [
    "fruits_list = [\"apple\", \"mango\", \"grapes\"]\n",
    "fruits_set = {\"apple\", \"mango\", \"grapes\"}\n",
    "\n",
    "print(\"mango\" in fruits_set)\n"
   ]
  },
  {
   "cell_type": "code",
   "execution_count": null,
   "id": "7ccc6595",
   "metadata": {},
   "outputs": [],
   "source": [
    "fruits_set = {\"apple\", \"mango\", \"grapes\"}\n",
    "\n",
    "fruits_set.add(\"orange\")\n",
    "print(fruits_set)"
   ]
  },
  {
   "cell_type": "code",
   "execution_count": null,
   "id": "ffca3be9",
   "metadata": {},
   "outputs": [],
   "source": [
    "# create set then get input from user and check if the value is exit or not\n",
    "\n",
    "number_set = {1, 2, 3, 4, 5, 6, 7, 8, 9, 10}\n",
    "user_input = int(input(\"Choose between 1 to 10: \"))\n",
    "\n",
    "if user_input == number_set:\n",
    "    print(f\"Congrats {user_input}\")\n",
    "else:\n",
    "    print(\"you lose\")"
   ]
  },
  {
   "cell_type": "markdown",
   "id": "ce5578ac",
   "metadata": {},
   "source": [
    "# Error Handling"
   ]
  },
  {
   "cell_type": "code",
   "execution_count": 16,
   "id": "ea823653",
   "metadata": {},
   "outputs": [
    {
     "name": "stdout",
     "output_type": "stream",
     "text": [
      "division by zero\n"
     ]
    }
   ],
   "source": [
    "try:\n",
    "    first_name = \"Hamza\"\n",
    "\n",
    "    print(10 / 0)\n",
    "except Exception as e:\n",
    "    print(e)"
   ]
  },
  {
   "cell_type": "code",
   "execution_count": 17,
   "id": "0432a80f",
   "metadata": {},
   "outputs": [
    {
     "name": "stdout",
     "output_type": "stream",
     "text": [
      "can't divide by zero\n"
     ]
    }
   ],
   "source": [
    "try:\n",
    "    first_name = \"Hamza\"\n",
    "\n",
    "    print(10 / 0)\n",
    "except Exception:\n",
    "    print(\"can't divide by zero\")"
   ]
  }
 ],
 "metadata": {
  "kernelspec": {
   "display_name": "base",
   "language": "python",
   "name": "python3"
  },
  "language_info": {
   "codemirror_mode": {
    "name": "ipython",
    "version": 3
   },
   "file_extension": ".py",
   "mimetype": "text/x-python",
   "name": "python",
   "nbconvert_exporter": "python",
   "pygments_lexer": "ipython3",
   "version": "3.11.5"
  }
 },
 "nbformat": 4,
 "nbformat_minor": 5
}
